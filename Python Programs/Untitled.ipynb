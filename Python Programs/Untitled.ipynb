{
 "cells": [
  {
   "cell_type": "code",
   "execution_count": 21,
   "id": "8b64acbd",
   "metadata": {},
   "outputs": [
    {
     "name": "stdout",
     "output_type": "stream",
     "text": [
      "3553\n",
      "False\n"
     ]
    }
   ],
   "source": [
    "def check_double(n):\n",
    "    res=n*2\n",
    "    res1=str(res)\n",
    "    n1=str(n)\n",
    "    c=0\n",
    "    for i in n1:\n",
    "        if i in res1:\n",
    "            c+=1\n",
    "        else:\n",
    "            return False\n",
    "    if c==len(n1):\n",
    "        return True\n",
    "n=int(input())\n",
    "print(check_double(n))"
   ]
  },
  {
   "cell_type": "code",
   "execution_count": null,
   "id": "0438e1f2",
   "metadata": {},
   "outputs": [],
   "source": []
  },
  {
   "cell_type": "code",
   "execution_count": null,
   "id": "b5d02752",
   "metadata": {},
   "outputs": [],
   "source": []
  }
 ],
 "metadata": {
  "kernelspec": {
   "display_name": "Python 3 (ipykernel)",
   "language": "python",
   "name": "python3"
  },
  "language_info": {
   "codemirror_mode": {
    "name": "ipython",
    "version": 3
   },
   "file_extension": ".py",
   "mimetype": "text/x-python",
   "name": "python",
   "nbconvert_exporter": "python",
   "pygments_lexer": "ipython3",
   "version": "3.9.12"
  }
 },
 "nbformat": 4,
 "nbformat_minor": 5
}
