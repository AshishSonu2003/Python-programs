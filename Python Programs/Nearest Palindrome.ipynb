{
 "cells": [
  {
   "cell_type": "code",
   "execution_count": 8,
   "id": "dddf2ef3",
   "metadata": {},
   "outputs": [
    {
     "name": "stdout",
     "output_type": "stream",
     "text": [
      "67676576\n",
      "67677676\n"
     ]
    }
   ],
   "source": [
    "import sys\n",
    "def nearest_palindrome(num):\n",
    "    for i in range(num+1,sys.maxsize):\n",
    "        if str(i)==str(i)[::-1]:\n",
    "            return i  \n",
    "n=int(input())\n",
    "print(nearest_palindrome(n))\n"
   ]
  },
  {
   "cell_type": "code",
   "execution_count": null,
   "id": "93acd192",
   "metadata": {},
   "outputs": [],
   "source": []
  }
 ],
 "metadata": {
  "kernelspec": {
   "display_name": "Python 3 (ipykernel)",
   "language": "python",
   "name": "python3"
  },
  "language_info": {
   "codemirror_mode": {
    "name": "ipython",
    "version": 3
   },
   "file_extension": ".py",
   "mimetype": "text/x-python",
   "name": "python",
   "nbconvert_exporter": "python",
   "pygments_lexer": "ipython3",
   "version": "3.9.12"
  }
 },
 "nbformat": 4,
 "nbformat_minor": 5
}
