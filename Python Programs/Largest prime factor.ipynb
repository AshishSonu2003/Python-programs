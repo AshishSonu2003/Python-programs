{
 "cells": [
  {
   "cell_type": "code",
   "execution_count": 1,
   "id": "3542432d",
   "metadata": {},
   "outputs": [
    {
     "name": "stdout",
     "output_type": "stream",
     "text": [
      "66\n"
     ]
    }
   ],
   "source": [
    "def find_factors(num):\n",
    "    factors = []\n",
    "    for i in range(2,(num+1)):\n",
    "        if(num%i==0):\n",
    "            factors.append(i)\n",
    "    return factors\n",
    "def is_prime(num, i):\n",
    "\n",
    "    if(i==1):\n",
    "        return True\n",
    "    elif(num%i==0):\n",
    "        return False;\n",
    "    else:\n",
    "        return(is_prime(num,i-1))\n",
    "def find_largest_prime_factor(list_of_factors):\n",
    "    large=[]\n",
    "    for i in list_of_factors:\n",
    "        if is_prime(i,i//2)==True:\n",
    "            large.append(i)\n",
    "    return max(large)\n",
    "    \n",
    "\n",
    "def find_f(num):\n",
    "    f=find_factors(num)\n",
    "    l=find_largest_prime_factor(f)\n",
    "    return l\n",
    "\n",
    "def find_g(num):\n",
    "    \n",
    "    sum=0\n",
    "    consicutive=[i for i in range(num,num+9)]\n",
    "    for i in consicutive:\n",
    "        largest_prime_factor=find_f(i)\n",
    "        sum=sum+largest_prime_factor\n",
    "    return sum\n",
    "\n",
    "\n",
    "\n",
    "print(find_g(10))"
   ]
  },
  {
   "cell_type": "code",
   "execution_count": null,
   "id": "41a9c2d0",
   "metadata": {},
   "outputs": [],
   "source": []
  }
 ],
 "metadata": {
  "kernelspec": {
   "display_name": "Python 3 (ipykernel)",
   "language": "python",
   "name": "python3"
  },
  "language_info": {
   "codemirror_mode": {
    "name": "ipython",
    "version": 3
   },
   "file_extension": ".py",
   "mimetype": "text/x-python",
   "name": "python",
   "nbconvert_exporter": "python",
   "pygments_lexer": "ipython3",
   "version": "3.9.12"
  }
 },
 "nbformat": 4,
 "nbformat_minor": 5
}
