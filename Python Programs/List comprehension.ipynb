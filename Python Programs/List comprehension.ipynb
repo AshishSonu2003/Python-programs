{
 "cells": [
  {
   "cell_type": "code",
   "execution_count": 20,
   "id": "6cedc351",
   "metadata": {},
   "outputs": [
    {
     "name": "stdout",
     "output_type": "stream",
     "text": [
      "[0, 1, 2, 3, 4, 5, 6, 7, 8, 9, 10]\n"
     ]
    }
   ],
   "source": [
    "l1=[]\n",
    "for i in range(11):\n",
    "    l1.append(i)\n",
    "print(l1)"
   ]
  },
  {
   "cell_type": "code",
   "execution_count": 21,
   "id": "5a938912",
   "metadata": {},
   "outputs": [
    {
     "name": "stdout",
     "output_type": "stream",
     "text": [
      "[0, 1, 2, 3, 4, 5, 6, 7, 8, 9, 10]\n"
     ]
    }
   ],
   "source": [
    "#list comorehension version\n",
    "print([i for i in range(11)])"
   ]
  },
  {
   "cell_type": "code",
   "execution_count": 22,
   "id": "4280da31",
   "metadata": {},
   "outputs": [
    {
     "name": "stdout",
     "output_type": "stream",
     "text": [
      "[1, 3, 5, 7, 9]\n"
     ]
    }
   ],
   "source": [
    "l1=[]\n",
    "for i in range(11):\n",
    "    if i%2!=0:\n",
    "        l1.append(i)\n",
    "print(l1)\n"
   ]
  },
  {
   "cell_type": "code",
   "execution_count": 23,
   "id": "acd67465",
   "metadata": {},
   "outputs": [
    {
     "name": "stdout",
     "output_type": "stream",
     "text": [
      "[1, 3, 5, 7, 9]\n"
     ]
    }
   ],
   "source": [
    "#list comprehension version\n",
    "print([i for i in range(11) if i%2!=0] )"
   ]
  },
  {
   "cell_type": "code",
   "execution_count": 24,
   "id": "583eb8b5",
   "metadata": {},
   "outputs": [
    {
     "name": "stdout",
     "output_type": "stream",
     "text": [
      "[0, 1, 4, 3, 16, 5, 36, 7, 64, 9, 100]\n"
     ]
    }
   ],
   "source": [
    "#list comprehension version\n",
    "print([i if i%2!=0 else i**2 for i in range(11)])"
   ]
  },
  {
   "cell_type": "code",
   "execution_count": 25,
   "id": "52ffb301",
   "metadata": {},
   "outputs": [
    {
     "name": "stdout",
     "output_type": "stream",
     "text": [
      "[[1, 8, 9, 64], [25, 216, 49, 512], [81, 1000, 121, 1728], [169, 2744, 225, 4096]]\n"
     ]
    }
   ],
   "source": [
    "#odd-->SQUARE IT\n",
    "#even-->CUBE IT\n",
    "mat=[[1,2,3,4],[5,6,7,8],[9,10,11,12],[13,14,15,16]]\n",
    "res=[]\n",
    "for i in mat:\n",
    "    r1=[]\n",
    "    for j in i:\n",
    "        if j%2!=0:\n",
    "            r1.append(j**2)\n",
    "        else:\n",
    "            r1.append(j**3)\n",
    "    res.append(r1)\n",
    "print(res)\n"
   ]
  },
  {
   "cell_type": "code",
   "execution_count": 26,
   "id": "ebb7917e",
   "metadata": {},
   "outputs": [
    {
     "name": "stdout",
     "output_type": "stream",
     "text": [
      "[[1, 8, 9, 64], [25, 216, 49, 512], [81, 1000, 121, 1728], [169, 2744, 225, 4096]]\n"
     ]
    }
   ],
   "source": [
    "#list comprehension version\n",
    "print([[j**2 if j%2!=0 else j**3 for j in i]for i in mat])"
   ]
  },
  {
   "cell_type": "code",
   "execution_count": 27,
   "id": "b355f945",
   "metadata": {},
   "outputs": [
    {
     "name": "stdout",
     "output_type": "stream",
     "text": [
      "[(6, 2), (4, 8), (6, 2), (1, 3), (2, 7), (2, 7)]\n"
     ]
    }
   ],
   "source": [
    "mylist=[9,3,6,1,5,0,8,2,4,7]\n",
    "list_b=[6,4,6,1,2,2]\n",
    "res=[]\n",
    "for i in list_b:\n",
    "    res.append((i,mylist.index(i)))\n",
    "print(res)"
   ]
  },
  {
   "cell_type": "code",
   "execution_count": 28,
   "id": "ce84ead6",
   "metadata": {},
   "outputs": [
    {
     "name": "stdout",
     "output_type": "stream",
     "text": [
      "[(6, 2), (4, 8), (6, 2), (1, 3), (2, 7), (2, 7)]\n"
     ]
    }
   ],
   "source": [
    "#list comprehension version\n",
    "print([(i,mylist.index(i))for i in list_b])"
   ]
  },
  {
   "cell_type": "code",
   "execution_count": 29,
   "id": "d11f5f83",
   "metadata": {},
   "outputs": [
    {
     "name": "stdout",
     "output_type": "stream",
     "text": [
      "{6: 2, 4: 8, 1: 3, 2: 7}\n"
     ]
    }
   ],
   "source": [
    "mylist=[9,3,6,1,5,0,8,2,4,7]\n",
    "list_b=[6,4,6,1,2,2]\n",
    "res={}\n",
    "for i in list_b:\n",
    "    res.update({i:mylist.index(i)})\n",
    "print(res)"
   ]
  },
  {
   "cell_type": "code",
   "execution_count": 30,
   "id": "2bb1670a",
   "metadata": {},
   "outputs": [
    {
     "name": "stdout",
     "output_type": "stream",
     "text": [
      "{6: 2, 4: 8, 1: 3, 2: 7}\n"
     ]
    }
   ],
   "source": [
    "#list comprehension version\n",
    "print({i:mylist.index(i)for i in list_b})"
   ]
  },
  {
   "cell_type": "code",
   "execution_count": 31,
   "id": "9d46046b",
   "metadata": {},
   "outputs": [
    {
     "name": "stdout",
     "output_type": "stream",
     "text": [
      "[['new', 'world', 'set'], ['holi', 'city', 'Ayodhya'], ['eve', 'diwali', 'tuesday'], ['over', 'three', 'lakh', 'diya', 'or', 'earthen', 'lamps'], ['lit', 'up', 'simultaneously', 'bank', 'sarayu', 'river']]\n"
     ]
    }
   ],
   "source": [
    "sentences=[\"a new world was set\",\"in the holi city of Ayodhya\",\"on the eve of diwali on tuesday\",\"with over three lakh diya or earthen lamps\",\"lit up simultaneously in the bank of sarayu river\"]\n",
    "stopwords=[\"for\",'a','of','the','and','to','in','on','with','was']\n",
    "res=[]\n",
    "for i in sentences:\n",
    "    res1=[]\n",
    "    for j in i.split():\n",
    "        if j not in stopwords:\n",
    "            res1.append(j)\n",
    "    res.append(res1)   \n",
    "print(res)\n",
    "        \n"
   ]
  },
  {
   "cell_type": "code",
   "execution_count": 32,
   "id": "499a588b",
   "metadata": {},
   "outputs": [
    {
     "name": "stdout",
     "output_type": "stream",
     "text": [
      "[['new', 'world', 'set'], ['holi', 'city', 'Ayodhya'], ['eve', 'diwali', 'tuesday'], ['over', 'three', 'lakh', 'diya', 'or', 'earthen', 'lamps'], ['lit', 'up', 'simultaneously', 'bank', 'sarayu', 'river']]\n"
     ]
    }
   ],
   "source": [
    "#list comprehension version\n",
    "print([[j for j in i.split() if j not in stopwords] for i in sentences])"
   ]
  },
  {
   "cell_type": "code",
   "execution_count": 49,
   "id": "f5118193",
   "metadata": {},
   "outputs": [
    {
     "name": "stdout",
     "output_type": "stream",
     "text": [
      "3,2,6,5,1,4,8,9\n",
      "5168\n"
     ]
    }
   ],
   "source": [
    "array=list(map(int,input().split(\",\")))\n",
    "num1=sum(array[:array.index(5)])+sum(array[array.index(8)+1:])\n",
    "l=array[array.index(5):array.index(8)+1]\n",
    "num2=\"\"\n",
    "for i in l:\n",
    "    num2+=str(i)\n",
    "print(int(num2)+num1)\n",
    "\n",
    "\n",
    "\n",
    "\n",
    "\n",
    "\n",
    "    \n",
    "\n"
   ]
  },
  {
   "cell_type": "code",
   "execution_count": null,
   "id": "12522888",
   "metadata": {},
   "outputs": [],
   "source": []
  }
 ],
 "metadata": {
  "kernelspec": {
   "display_name": "Python 3 (ipykernel)",
   "language": "python",
   "name": "python3"
  },
  "language_info": {
   "codemirror_mode": {
    "name": "ipython",
    "version": 3
   },
   "file_extension": ".py",
   "mimetype": "text/x-python",
   "name": "python",
   "nbconvert_exporter": "python",
   "pygments_lexer": "ipython3",
   "version": "3.9.12"
  }
 },
 "nbformat": 4,
 "nbformat_minor": 5
}
