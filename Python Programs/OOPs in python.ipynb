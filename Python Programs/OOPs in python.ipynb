{
 "cells": [
  {
   "cell_type": "code",
   "execution_count": 5,
   "id": "c0d76177",
   "metadata": {},
   "outputs": [
    {
     "name": "stdout",
     "output_type": "stream",
     "text": [
      "10\n",
      "15\n"
     ]
    }
   ],
   "source": [
    "class Example:\n",
    "    def __init__(self,num):\n",
    "        self.num=num\n",
    "    def set_num(self,num):\n",
    "        self.num=num\n",
    "    def get_num(self):\n",
    "        return self.num\n",
    "obj=Example(10)\n",
    "print(obj.get_num())\n",
    "obj.set_num(15)\n",
    "print(obj.get_num())"
   ]
  },
  {
   "cell_type": "code",
   "execution_count": 6,
   "id": "081d4feb",
   "metadata": {},
   "outputs": [
    {
     "name": "stdout",
     "output_type": "stream",
     "text": [
      "10\n",
      "10\n"
     ]
    }
   ],
   "source": [
    "class Example:\n",
    "    def __init__(self,num):\n",
    "        self.num=num\n",
    "    def set_num(self,num):\n",
    "        num=num\n",
    "    def get_num(self):\n",
    "        return self.num\n",
    "obj=Example(10)\n",
    "print(obj.get_num())\n",
    "obj.set_num(15)\n",
    "print(obj.get_num())"
   ]
  },
  {
   "cell_type": "code",
   "execution_count": 7,
   "id": "3982006f",
   "metadata": {},
   "outputs": [
    {
     "name": "stdout",
     "output_type": "stream",
     "text": [
      "100\n"
     ]
    }
   ],
   "source": [
    "class Customer:\n",
    "    def __init__(self,id):\n",
    "        self.id=100\n",
    "c1=Customer(200)\n",
    "print(c1.id)"
   ]
  },
  {
   "cell_type": "code",
   "execution_count": 8,
   "id": "40f7a4ba",
   "metadata": {},
   "outputs": [
    {
     "name": "stdout",
     "output_type": "stream",
     "text": [
      "200\n"
     ]
    }
   ],
   "source": [
    "class Customer:\n",
    "    def __init__(self,id):\n",
    "        self.id=id\n",
    "c1=Customer(200)\n",
    "print(c1.id)"
   ]
  },
  {
   "cell_type": "code",
   "execution_count": 9,
   "id": "fd5f85fb",
   "metadata": {},
   "outputs": [
    {
     "name": "stdout",
     "output_type": "stream",
     "text": [
      "My favorite subject is Learning Python.\n",
      "Your's is Learning python the hard way.\n"
     ]
    }
   ],
   "source": [
    "class Book:\n",
    "    def __init__(self):\n",
    "        self.title=None\n",
    "fav=Book()\n",
    "fav.title=\"Head First Programming.\"\n",
    "y_fav=Book()\n",
    "y_fav.title=\"Learning python the hard way.\"\n",
    "fav.title=\"Learning Python.\"\n",
    "print(\"My favorite subject is\",fav.title)\n",
    "print(\"Your's is\",y_fav.title)"
   ]
  },
  {
   "cell_type": "code",
   "execution_count": 10,
   "id": "e69da17b",
   "metadata": {},
   "outputs": [
    {
     "name": "stdout",
     "output_type": "stream",
     "text": [
      "<__main__.Shoe object at 0x000001C3883452B0>\n",
      "1000 Canvas\n"
     ]
    }
   ],
   "source": [
    "class Shoe:\n",
    "    def __init__(self,price,material):\n",
    "        self.price=price\n",
    "        self.material=material\n",
    "s1=Shoe(1000,\"Canvas\")\n",
    "print(s1)\n",
    "print(s1.price,s1.material)"
   ]
  },
  {
   "cell_type": "code",
   "execution_count": 11,
   "id": "c4abdbbd",
   "metadata": {
    "scrolled": true
   },
   "outputs": [
    {
     "name": "stdout",
     "output_type": "stream",
     "text": [
      "The unique id of the object 1939315278608\n"
     ]
    }
   ],
   "source": [
    "class Shoe:\n",
    "    def __init__(self,price,material):\n",
    "        self.price=price\n",
    "        self.material=material\n",
    "s1=Shoe(1000,\"Canvas\")\n",
    "print(\"The unique id of the object\",id(s1))\n"
   ]
  },
  {
   "cell_type": "code",
   "execution_count": 19,
   "id": "3ea82eeb",
   "metadata": {},
   "outputs": [
    {
     "name": "stdout",
     "output_type": "stream",
     "text": [
      "Shoe with price: 1000 and material:Canvas\n"
     ]
    }
   ],
   "source": [
    "class Shoe:\n",
    "    def __init__(self,price,material):\n",
    "        self.price=price\n",
    "        self.material=material\n",
    "    def __str__(self):\n",
    "        return \"Shoe with price: \"+str(self.price) + \" and material:\" + self.material\n",
    "s1=Shoe(1000,\"Canvas\")\n",
    "print(s1)"
   ]
  },
  {
   "cell_type": "code",
   "execution_count": 21,
   "id": "82585ada",
   "metadata": {},
   "outputs": [
    {
     "name": "stdout",
     "output_type": "stream",
     "text": [
      "1939315383840\n",
      "Displaying details\n",
      "Calculating price\n"
     ]
    }
   ],
   "source": [
    "class Mobile:\n",
    "    def __init__(self):\n",
    "        print(id(self))\n",
    "    def display(self):\n",
    "        print(\"Displaying details\")\n",
    "    def purchase(self):\n",
    "        self.display()\n",
    "        print(\"Calculating price\")\n",
    "Mobile().purchase()"
   ]
  },
  {
   "cell_type": "code",
   "execution_count": 25,
   "id": "bde07866",
   "metadata": {},
   "outputs": [
    {
     "name": "stdout",
     "output_type": "stream",
     "text": [
      "Total price of Apple mobile is 18000.0\n",
      "Total price of Samsung mobile is 9500.0\n",
      "2000.0\n",
      "500.0\n"
     ]
    }
   ],
   "source": [
    "class Mobile:\n",
    "    def __init__(self,brand,price):\n",
    "        self.brand=brand\n",
    "        self.price=price\n",
    "        self.total_price=None\n",
    "        \n",
    "    def purchase(self):\n",
    "        if self.brand==\"Apple\":\n",
    "            discount=10\n",
    "        else:\n",
    "            discount=5\n",
    "        self.total_price=self.price-self.price*(discount/100)\n",
    "        print(\"Total price of\",self.brand,\"mobile is\",self.total_price)\n",
    "    def returned(self):\n",
    "        return self.price-self.total_price\n",
    "        \n",
    "mob1=Mobile(\"Apple\",20000)\n",
    "mob2=Mobile(\"Samsung\",10000)\n",
    "mob1.purchase()\n",
    "mob2.purchase()\n",
    "print(mob1.returned())\n",
    "print(mob2.returned())"
   ]
  },
  {
   "cell_type": "code",
   "execution_count": 28,
   "id": "2eb6374c",
   "metadata": {},
   "outputs": [
    {
     "name": "stdout",
     "output_type": "stream",
     "text": [
      "1939333209488 1939333209488 1939333208528\n"
     ]
    }
   ],
   "source": [
    "class Table:\n",
    "    def __init__(self):\n",
    "        self.no_of_legs=None\n",
    "        self.glass_top=None\n",
    "        self.wooden_top=None\n",
    "dining_table=Table()\n",
    "back_table=Table()\n",
    "front_table=back_table\n",
    "back_table=dining_table\n",
    "print(id(dining_table),id(back_table),id(front_table))"
   ]
  },
  {
   "cell_type": "code",
   "execution_count": null,
   "id": "30548916",
   "metadata": {},
   "outputs": [],
   "source": []
  }
 ],
 "metadata": {
  "kernelspec": {
   "display_name": "Python 3 (ipykernel)",
   "language": "python",
   "name": "python3"
  },
  "language_info": {
   "codemirror_mode": {
    "name": "ipython",
    "version": 3
   },
   "file_extension": ".py",
   "mimetype": "text/x-python",
   "name": "python",
   "nbconvert_exporter": "python",
   "pygments_lexer": "ipython3",
   "version": "3.9.12"
  }
 },
 "nbformat": 4,
 "nbformat_minor": 5
}
