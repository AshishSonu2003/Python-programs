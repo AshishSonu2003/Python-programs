{
 "cells": [
  {
   "cell_type": "code",
   "execution_count": 27,
   "id": "7054b547",
   "metadata": {},
   "outputs": [
    {
     "name": "stdout",
     "output_type": "stream",
     "text": [
      "Vehicle Id: 12\n",
      "Vehicle Type: Two wheeler\n",
      "Vehicle cost: 100000\n",
      "Premium amount for Two wheeler: 2000.0\n",
      "Updated Vehicle Id: 14\n",
      "Updated Vehicle type: Four wheeler\n",
      "Updated Vehicle cost 1000000\n",
      "Premium amount for Four wheeler: 60000.0\n"
     ]
    }
   ],
   "source": [
    "class car:\n",
    "    def __init__(self,v_id,typ,cost):\n",
    "        self.__v_id=v_id\n",
    "        self.__typ=typ\n",
    "        self.__cost=cost\n",
    "        self.__p_amount=None\n",
    "    def set_vid(self,v_id):\n",
    "        self.__v_id=v_id\n",
    "    def set_type(self,typ):\n",
    "        self.__typ=typ\n",
    "    def set_cost(self,cost):\n",
    "        self.__cost=cost\n",
    "    def get_vid(self):\n",
    "        return self.__v_id\n",
    "    def get_type(self):\n",
    "        return self.__typ\n",
    "    def get_cost(self):\n",
    "        return self.__cost    \n",
    "    def p_amount(self):\n",
    "        if self.__typ=='Two wheeler':\n",
    "            self.__p_amount=0.02*self.__cost\n",
    "        elif self.__typ=='Four wheeler':\n",
    "            self.__p_amount=0.06*self.__cost\n",
    "        else:\n",
    "            print(\"Invalid vehicle type\")\n",
    "        return self.__p_amount\n",
    "c1=car(12,'Two wheeler',100000)\n",
    "print(\"Vehicle Id:\",c1.get_vid())\n",
    "print(\"Vehicle Type:\",c1.get_type())\n",
    "print(\"Vehicle cost:\",c1.get_cost())\n",
    "print(\"Premium amount for Two wheeler:\",c1.p_amount())\n",
    "c1.set_vid(14)\n",
    "c1.set_type('Four wheeler')\n",
    "c1.set_cost(1000000)\n",
    "print(\"Updated Vehicle Id:\",c1.get_vid())\n",
    "print(\"Updated Vehicle type:\",c1.get_type())\n",
    "print(\"Updated Vehicle cost\",c1.get_cost())\n",
    "print(\"Premium amount for Four wheeler:\",c1.p_amount())\n",
    "\n",
    "\n",
    "\n",
    "\n"
   ]
  },
  {
   "cell_type": "code",
   "execution_count": null,
   "id": "de4ffc93",
   "metadata": {},
   "outputs": [],
   "source": []
  }
 ],
 "metadata": {
  "kernelspec": {
   "display_name": "Python 3 (ipykernel)",
   "language": "python",
   "name": "python3"
  },
  "language_info": {
   "codemirror_mode": {
    "name": "ipython",
    "version": 3
   },
   "file_extension": ".py",
   "mimetype": "text/x-python",
   "name": "python",
   "nbconvert_exporter": "python",
   "pygments_lexer": "ipython3",
   "version": "3.9.12"
  }
 },
 "nbformat": 4,
 "nbformat_minor": 5
}
