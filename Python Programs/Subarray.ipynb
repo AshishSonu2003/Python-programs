{
 "cells": [
  {
   "cell_type": "code",
   "execution_count": 8,
   "id": "2c4c7012",
   "metadata": {},
   "outputs": [
    {
     "name": "stdout",
     "output_type": "stream",
     "text": [
      "1\n",
      "3\n",
      "[1, 2, 3]\n",
      "[[1], [1, 2], [1, 2, 3], [2], [2, 3], [3]]\n",
      "[[1], [1, 2], [1, 2, 3], [2], [2, 3], [3]]\n",
      "4\n"
     ]
    }
   ],
   "source": [
    "n1=int(input())\n",
    "n2=int(input())\n",
    "array=[i for i in range(n1,n2+1)]\n",
    "print(array)\n",
    "l1=[]\n",
    "for i in range(len(array)):\n",
    "    for j in range(i,len(array)):\n",
    "        l1.append(array[i:j+1])\n",
    "print(l1)\n",
    "l1=[array[i:j+1] for i in range(len(array)) for j in range(i,len(array))]\n",
    "print(l1)\n",
    "c=0\n",
    "for i in l1:\n",
    "    if sum(i)%2!=0:\n",
    "        c+=1\n",
    "print(c)\n",
    "        \n",
    "\n"
   ]
  },
  {
   "cell_type": "code",
   "execution_count": null,
   "id": "dd99c874",
   "metadata": {},
   "outputs": [],
   "source": []
  },
  {
   "cell_type": "code",
   "execution_count": null,
   "id": "3c385c81",
   "metadata": {},
   "outputs": [],
   "source": []
  }
 ],
 "metadata": {
  "kernelspec": {
   "display_name": "Python 3 (ipykernel)",
   "language": "python",
   "name": "python3"
  },
  "language_info": {
   "codemirror_mode": {
    "name": "ipython",
    "version": 3
   },
   "file_extension": ".py",
   "mimetype": "text/x-python",
   "name": "python",
   "nbconvert_exporter": "python",
   "pygments_lexer": "ipython3",
   "version": "3.9.12"
  }
 },
 "nbformat": 4,
 "nbformat_minor": 5
}
