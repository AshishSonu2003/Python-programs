{
 "cells": [
  {
   "cell_type": "code",
   "execution_count": 38,
   "id": "aab315ba",
   "metadata": {},
   "outputs": [
    {
     "name": "stdout",
     "output_type": "stream",
     "text": [
      "Student Id: 1001\n",
      "Student Marks: 70\n",
      "Student Age: 22\n",
      "Student is qualified\n",
      "Student is not eligible for discount\n"
     ]
    }
   ],
   "source": [
    "class student:\n",
    "    def __init__(self):\n",
    "        self.__s_id=None\n",
    "        self.__marks=None\n",
    "        self.__age=None\n",
    "    def validate_marks(self):\n",
    "        if self.__marks in range(0,100+1):\n",
    "            return True\n",
    "        else:\n",
    "            return False\n",
    "    def validate_age(self):\n",
    "        if self.__age > 20:\n",
    "            return True\n",
    "        else:\n",
    "            return False\n",
    "    def check_qualification(self):\n",
    "        if self.validate_marks()==True and self.validate_age()==True:\n",
    "            if self.__marks>=65:\n",
    "                return True\n",
    "            else:\n",
    "                return False\n",
    "    def course_fees(self):\n",
    "        dis=0\n",
    "        d={1001:25575.0,1002:15500.0}\n",
    "        if self.check_qualification()==True:\n",
    "            if self.__marks>=85:\n",
    "                dis=0.25\n",
    "                return d[self.__s_id]-dis*d[self.__s_id] \n",
    "            else:\n",
    "                return False \n",
    "    def set_id(self,s_id):\n",
    "        self.__s_id=s_id\n",
    "    def set_marks(self,marks):\n",
    "        self.__marks=marks\n",
    "    def set_age(self,age):\n",
    "        self.__age=age\n",
    "    def get_id(self):\n",
    "        return self.__s_id\n",
    "    def get_marks(self):\n",
    "        return self.__marks\n",
    "    def get_age(self):\n",
    "        return self.__age\n",
    "s=student()\n",
    "s.set_id(1001)\n",
    "s.set_marks(70)\n",
    "s.set_age(22)\n",
    "print(\"Student Id:\",s.get_id())\n",
    "print(\"Student Marks:\",s.get_marks())\n",
    "print(\"Student Age:\",s.get_age())\n",
    "if s.check_qualification()==True:\n",
    "    print(\"Student is qualified\")\n",
    "else:\n",
    "    print(\"Student is not qualified\")\n",
    "if s.course_fees()==False:\n",
    "    print(\"Student is not eligible for discount\")\n",
    "else:\n",
    "    print(\"Discounted course fees:\",s.course_fees())\n",
    "\n",
    "\n",
    "                \n",
    "                \n",
    "        \n",
    "    \n",
    "    "
   ]
  },
  {
   "cell_type": "code",
   "execution_count": null,
   "id": "e3e07621",
   "metadata": {},
   "outputs": [],
   "source": []
  }
 ],
 "metadata": {
  "kernelspec": {
   "display_name": "Python 3 (ipykernel)",
   "language": "python",
   "name": "python3"
  },
  "language_info": {
   "codemirror_mode": {
    "name": "ipython",
    "version": 3
   },
   "file_extension": ".py",
   "mimetype": "text/x-python",
   "name": "python",
   "nbconvert_exporter": "python",
   "pygments_lexer": "ipython3",
   "version": "3.9.12"
  }
 },
 "nbformat": 4,
 "nbformat_minor": 5
}
