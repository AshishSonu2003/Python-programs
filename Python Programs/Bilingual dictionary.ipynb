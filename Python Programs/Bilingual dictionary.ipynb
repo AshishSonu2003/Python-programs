{
 "cells": [
  {
   "cell_type": "code",
   "execution_count": 2,
   "id": "872a467b",
   "metadata": {},
   "outputs": [
    {
     "name": "stdout",
     "output_type": "stream",
     "text": [
      "['god', 'jul']\n"
     ]
    }
   ],
   "source": [
    "def translate(dict1,w):\n",
    "    l1=[]\n",
    "    for i in w:\n",
    "        l1.append(dict1[i])\n",
    "    return l1\n",
    "dict1={\"merry\":\"god\",\"christmas\":\"jul\",\"and\":\"och\",\"happy\":\"gott\",\"new\":\"nytt\",\"year\":\"ar\"}\n",
    "w=[\"merry\",\"christmas\"]\n",
    "print(translate(dict1,w))\n",
    "    \n",
    "            "
   ]
  },
  {
   "cell_type": "code",
   "execution_count": null,
   "id": "51a58463",
   "metadata": {},
   "outputs": [],
   "source": []
  }
 ],
 "metadata": {
  "kernelspec": {
   "display_name": "Python 3 (ipykernel)",
   "language": "python",
   "name": "python3"
  },
  "language_info": {
   "codemirror_mode": {
    "name": "ipython",
    "version": 3
   },
   "file_extension": ".py",
   "mimetype": "text/x-python",
   "name": "python",
   "nbconvert_exporter": "python",
   "pygments_lexer": "ipython3",
   "version": "3.9.12"
  }
 },
 "nbformat": 4,
 "nbformat_minor": 5
}
