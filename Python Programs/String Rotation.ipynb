{
 "cells": [
  {
   "cell_type": "code",
   "execution_count": 3,
   "id": "e7bb87ed",
   "metadata": {},
   "outputs": [
    {
     "name": "stdout",
     "output_type": "stream",
     "text": [
      "uht:34\n",
      "tuh\n"
     ]
    }
   ],
   "source": [
    "s=input().split(\",\")\n",
    "stt=[]\n",
    "num=[]\n",
    "for i in s:\n",
    "    s1,n=i.split(\":\")\n",
    "    stt.append(s1)\n",
    "    num.append(n)\n",
    "def rotate(ss,n):\n",
    "    n=str(n)\n",
    "    s=0\n",
    "    for i in n:\n",
    "        s+=int(i)**2\n",
    "    if s%2==0:\n",
    "        return ss[-1]+ss[:-1]\n",
    "    else:\n",
    "        return ss[2:]+ss[:2]\n",
    "for i in range(len(num)):\n",
    "    print(rotate(stt[i],num[i]))\n"
   ]
  }
 ],
 "metadata": {
  "kernelspec": {
   "display_name": "Python 3 (ipykernel)",
   "language": "python",
   "name": "python3"
  },
  "language_info": {
   "codemirror_mode": {
    "name": "ipython",
    "version": 3
   },
   "file_extension": ".py",
   "mimetype": "text/x-python",
   "name": "python",
   "nbconvert_exporter": "python",
   "pygments_lexer": "ipython3",
   "version": "3.9.12"
  }
 },
 "nbformat": 4,
 "nbformat_minor": 5
}
