{
 "cells": [
  {
   "cell_type": "code",
   "execution_count": 4,
   "id": "faf20c95",
   "metadata": {},
   "outputs": [
    {
     "name": "stdout",
     "output_type": "stream",
     "text": [
      "w3resource\n",
      "w3ce\n"
     ]
    }
   ],
   "source": [
    "def first2(s):\n",
    "    if len(s)<2:\n",
    "        return -1\n",
    "    else:\n",
    "        return s[0:2]+s[-2:]\n",
    "s=input()\n",
    "print(first2(s))\n",
    "    \n",
    "        "
   ]
  },
  {
   "cell_type": "code",
   "execution_count": null,
   "id": "52724fed",
   "metadata": {},
   "outputs": [],
   "source": []
  }
 ],
 "metadata": {
  "kernelspec": {
   "display_name": "Python 3 (ipykernel)",
   "language": "python",
   "name": "python3"
  },
  "language_info": {
   "codemirror_mode": {
    "name": "ipython",
    "version": 3
   },
   "file_extension": ".py",
   "mimetype": "text/x-python",
   "name": "python",
   "nbconvert_exporter": "python",
   "pygments_lexer": "ipython3",
   "version": "3.9.12"
  }
 },
 "nbformat": 4,
 "nbformat_minor": 5
}
