{
 "cells": [
  {
   "cell_type": "code",
   "execution_count": 8,
   "id": "64ad2d8a",
   "metadata": {},
   "outputs": [
    {
     "name": "stdout",
     "output_type": "stream",
     "text": [
      "[] <class 'list'>\n",
      "[10, 20, 30, 40]\n",
      "[10, 20, 30, 40, 102]\n",
      "[10, 20, 30, 40, 102, 102, 103]\n",
      "[51, 10, 20, 30, 40, 102, 102, 103]\n",
      "[51, 10, 20, 30, 40, 102, 103]\n",
      "[10, 20, 30, 40, 102, 103]\n",
      "[10, 30, 40, 102, 103]\n"
     ]
    }
   ],
   "source": [
    "#list-->Ordered--default index\n",
    "list2=[]\n",
    "print(list2,type(list2))\n",
    "list2=[10,20,30,40]\n",
    "print(list2)\n",
    "list2.append(102)\n",
    "print(list2)\n",
    "list2.extend([102,103])\n",
    "print(list2)\n",
    "list2.insert(0,51)\n",
    "print(list2)\n",
    "list2.remove(102)\n",
    "print(list2)\n",
    "list2.pop(0)\n",
    "print(list2)\n",
    "del list2[1]\n",
    "print(list2)\n",
    "\n"
   ]
  },
  {
   "cell_type": "code",
   "execution_count": null,
   "id": "50220655",
   "metadata": {},
   "outputs": [],
   "source": []
  }
 ],
 "metadata": {
  "kernelspec": {
   "display_name": "Python 3 (ipykernel)",
   "language": "python",
   "name": "python3"
  },
  "language_info": {
   "codemirror_mode": {
    "name": "ipython",
    "version": 3
   },
   "file_extension": ".py",
   "mimetype": "text/x-python",
   "name": "python",
   "nbconvert_exporter": "python",
   "pygments_lexer": "ipython3",
   "version": "3.9.12"
  }
 },
 "nbformat": 4,
 "nbformat_minor": 5
}
