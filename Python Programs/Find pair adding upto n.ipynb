{
 "cells": [
  {
   "cell_type": "code",
   "execution_count": 6,
   "id": "ec794575",
   "metadata": {},
   "outputs": [
    {
     "name": "stdout",
     "output_type": "stream",
     "text": [
      "6\n",
      "3\n"
     ]
    }
   ],
   "source": [
    "def find_pairs_of_numbers(l,n):\n",
    "    c=0\n",
    "    for x in l:\n",
    "        index=l.index(x)+1\n",
    "        for y in range(index,len(l)):\n",
    "            if x+l[y]==n:\n",
    "                c=c+1\n",
    "    return c\n",
    "l=[1,2,7,4,5,6,0,3]\n",
    "n=int(input())\n",
    "print(find_pairs_of_numbers(l,n))\n",
    "    \n",
    "        \n",
    "    \n",
    "    "
   ]
  },
  {
   "cell_type": "code",
   "execution_count": null,
   "id": "6afee83c",
   "metadata": {},
   "outputs": [],
   "source": []
  }
 ],
 "metadata": {
  "kernelspec": {
   "display_name": "Python 3 (ipykernel)",
   "language": "python",
   "name": "python3"
  },
  "language_info": {
   "codemirror_mode": {
    "name": "ipython",
    "version": 3
   },
   "file_extension": ".py",
   "mimetype": "text/x-python",
   "name": "python",
   "nbconvert_exporter": "python",
   "pygments_lexer": "ipython3",
   "version": "3.9.12"
  }
 },
 "nbformat": 4,
 "nbformat_minor": 5
}
