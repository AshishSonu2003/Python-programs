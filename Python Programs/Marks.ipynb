{
 "cells": [
  {
   "cell_type": "code",
   "execution_count": 9,
   "id": "23bc324d",
   "metadata": {},
   "outputs": [
    {
     "name": "stdout",
     "output_type": "stream",
     "text": [
      "70.0\n",
      "[2, 5, 12, 18, 18, 20, 20, 21, 24, 25]\n",
      "[0, 0, 1, 0, 0, 1, 0, 0, 0, 0, 0, 0, 1, 0, 0, 0, 0, 0, 2, 0, 2, 1, 0, 0, 1, 1]\n"
     ]
    }
   ],
   "source": [
    "def find_more_than_average(tup_1):\n",
    "    c=0\n",
    "    avg=sum(tup_1)/len(tup_1)\n",
    "    for i in tup_1:\n",
    "        if i>avg:\n",
    "            c+=1\n",
    "    ps=(c*100)/10\n",
    "    return ps\n",
    "def sort_marks(tup_1):\n",
    "    tup_1=sorted(tup_1)\n",
    "    return tup_1\n",
    "def generate_frequency(tup_1):\n",
    "    f=[]\n",
    "    for i in range(26):\n",
    "        c=0\n",
    "        for j in tup_1:\n",
    "            if i==j:\n",
    "                c+=1\n",
    "        f.append(c)\n",
    "    return f\n",
    "n=(12,18,25,24,2,5,18,20,20,21)\n",
    "print(find_more_than_average(n))\n",
    "print(sort_marks(n))\n",
    "print(generate_frequency(n))\n",
    "\n",
    "        \n",
    "    \n",
    "    \n",
    "    "
   ]
  },
  {
   "cell_type": "code",
   "execution_count": null,
   "id": "c78a2b34",
   "metadata": {},
   "outputs": [],
   "source": []
  }
 ],
 "metadata": {
  "kernelspec": {
   "display_name": "Python 3 (ipykernel)",
   "language": "python",
   "name": "python3"
  },
  "language_info": {
   "codemirror_mode": {
    "name": "ipython",
    "version": 3
   },
   "file_extension": ".py",
   "mimetype": "text/x-python",
   "name": "python",
   "nbconvert_exporter": "python",
   "pygments_lexer": "ipython3",
   "version": "3.9.12"
  }
 },
 "nbformat": 4,
 "nbformat_minor": 5
}
