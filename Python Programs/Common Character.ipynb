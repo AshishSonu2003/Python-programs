{
 "cells": [
  {
   "cell_type": "code",
   "execution_count": 17,
   "id": "eca974ca",
   "metadata": {},
   "outputs": [
    {
     "name": "stdout",
     "output_type": "stream",
     "text": [
      "par\n",
      "ssq\n",
      "-1\n"
     ]
    }
   ],
   "source": [
    "n1=input()\n",
    "n2=input()\n",
    "a=[]\n",
    "for i in n1:\n",
    "    if i in n2 and i!=\" \":\n",
    "        a.append(i)\n",
    "    else:\n",
    "        print(-1)\n",
    "        break\n",
    "for i in a:\n",
    "    print(i,end=\"\")\n",
    "        \n",
    "            \n",
    "        \n",
    "    \n"
   ]
  },
  {
   "cell_type": "code",
   "execution_count": null,
   "id": "26dfd236",
   "metadata": {},
   "outputs": [],
   "source": []
  },
  {
   "cell_type": "code",
   "execution_count": null,
   "id": "3ba4c2d7",
   "metadata": {},
   "outputs": [],
   "source": []
  }
 ],
 "metadata": {
  "kernelspec": {
   "display_name": "Python 3 (ipykernel)",
   "language": "python",
   "name": "python3"
  },
  "language_info": {
   "codemirror_mode": {
    "name": "ipython",
    "version": 3
   },
   "file_extension": ".py",
   "mimetype": "text/x-python",
   "name": "python",
   "nbconvert_exporter": "python",
   "pygments_lexer": "ipython3",
   "version": "3.9.12"
  }
 },
 "nbformat": 4,
 "nbformat_minor": 5
}
